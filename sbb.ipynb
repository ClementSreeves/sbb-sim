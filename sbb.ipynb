{
 "cells": [
  {
   "cell_type": "markdown",
   "metadata": {},
   "source": [
    "Look to refactor into the following model:\n",
    "\n",
    "- between attacks, we have an unchanging state\n",
    "- from that state, the next attack is chosen (randomly)\n",
    "- compute the next state based on which attack was chosen"
   ]
  },
  {
   "cell_type": "code",
   "execution_count": 1,
   "metadata": {},
   "outputs": [],
   "source": [
    "from dataclasses import dataclass\n",
    "from typing import List, Tuple, Optional, Callable, Any\n",
    "from itertools import cycle\n",
    "import random\n",
    "import json\n",
    "from abc import ABC, abstractmethod\n",
    "from collections import namedtuple\n",
    "import json"
   ]
  },
  {
   "cell_type": "code",
   "execution_count": 2,
   "metadata": {},
   "outputs": [],
   "source": [
    "NUM_POSITIONS = 7"
   ]
  },
  {
   "cell_type": "code",
   "execution_count": 37,
   "metadata": {},
   "outputs": [],
   "source": [
    "Bonus = namedtuple(\"Bonus\", [\"attack\", \"health\"])\n",
    "\n",
    "in_front_of = {\n",
    "    0: [],\n",
    "    1: [],\n",
    "    2: [],\n",
    "    3: [],\n",
    "    4: [0, 1],\n",
    "    5: [1, 2],\n",
    "    6: [2, 3]\n",
    "}"
   ]
  },
  {
   "cell_type": "code",
   "execution_count": 38,
   "metadata": {},
   "outputs": [],
   "source": [
    "@dataclass\n",
    "class MinionDetails:\n",
    "    \"\"\"Minion characteristics and stats\"\"\"\n",
    "    name: str\n",
    "    base_attack: int\n",
    "    base_health: int\n",
    "    alignment: str\n",
    "    types: List[str]\n",
    "    level: int\n",
    "    upgraded: bool = False\n",
    "    ranged: bool = False\n",
    "    flying: bool = False\n",
    "    slay: bool = False"
   ]
  },
  {
   "cell_type": "code",
   "execution_count": 39,
   "metadata": {},
   "outputs": [
    {
     "data": {
      "text/plain": [
       "' subscribers = dict()\\n\\ndef subscribe(event_type: str, fn):\\n    if not event_type in subscribers:\\n        subscribers[event_type] = []\\n    subscribers[event_type].append(fn)\\n\\ndef post_event(event_type: str, *args, **kwargs):\\n    if not event_type in subscribers:\\n        return\\n    for fn in subscribers[event_type]:\\n        fn(*args, **kwargs) '"
      ]
     },
     "execution_count": 39,
     "metadata": {},
     "output_type": "execute_result"
    }
   ],
   "source": [
    "\"\"\" subscribers = dict()\n",
    "\n",
    "def subscribe(event_type: str, fn):\n",
    "    if not event_type in subscribers:\n",
    "        subscribers[event_type] = []\n",
    "    subscribers[event_type].append(fn)\n",
    "\n",
    "def post_event(event_type: str, *args, **kwargs):\n",
    "    if not event_type in subscribers:\n",
    "        return\n",
    "    for fn in subscribers[event_type]:\n",
    "        fn(*args, **kwargs) \"\"\""
   ]
  },
  {
   "cell_type": "code",
   "execution_count": 91,
   "metadata": {},
   "outputs": [],
   "source": [
    "class Minion:\n",
    "\n",
    "    def __init__(self, details: MinionDetails, position: int, mediator: \"MinionMediator\"):\n",
    "        self.attack = details.base_attack\n",
    "        self.health = details.base_health\n",
    "        self.details = details\n",
    "        self.position = position\n",
    "        self.mediator = mediator\n",
    "    \n",
    "    def support(self) -> Tuple[Bonus, Callable[[\"Minion\"], bool]]:\n",
    "        return (0, 0), lambda x: False \n",
    "\n",
    "    def apply_bonus(self, bonus: Bonus) -> None:\n",
    "        self.attack += bonus.attack\n",
    "        self.health += bonus.health\n",
    "\n",
    "    def take_damage(self, damage: int) -> None:\n",
    "        self.health -= damage\n",
    "        if self.health < 0:\n",
    "            self.mediator.kill_minion(self.position)\n",
    "\n",
    "    def on_death(self) -> Callable:\n",
    "        return lambda: None\n",
    "\n",
    "    @property\n",
    "    def can_attack(self) -> bool:\n",
    "        return self.attack > 0\n",
    "\n",
    "    def __repr__(self) -> str:\n",
    "        return f\"{self.details.name} in position {self.position} with {self.attack} attack and {self.health} health\""
   ]
  },
  {
   "cell_type": "code",
   "execution_count": 92,
   "metadata": {},
   "outputs": [],
   "source": [
    "minion_classes = {}\n",
    "def register(name):\n",
    "    def wrapper(cls):\n",
    "        minion_classes[name] = cls\n",
    "        return cls\n",
    "    return wrapper\n",
    "\n",
    "@register(name='Mad Mim')\n",
    "class MadMim(Minion):\n",
    "\n",
    "    def support(self) -> Tuple[Bonus, Callable[[Minion], bool]]:\n",
    "        return Bonus(3, 0), lambda x: x.position in in_front_of[self.position]\n",
    "\n",
    "@register(name='Rainbow Unicorn')\n",
    "class RainbowUnicorn(Minion):\n",
    "\n",
    "    def support(self) -> Tuple[Bonus, Callable[[Minion], bool]]:\n",
    "        return Bonus(0, 1), lambda x: x.details.alignment == 'Good' and x is not self\n",
    "\n",
    "@register(name='Black Cat')\n",
    "class BlackCat(Minion):\n",
    "\n",
    "    def on_death(self) -> None:\n",
    "        return lambda: self.mediator.add_minion('Cat', details=MinionDetails(**ALL_MINIONS['Cat']), position=self.position)\n",
    "\n",
    "@register(name='Cat')\n",
    "class Cat(Minion):\n",
    "    pass\n",
    "\n",
    "@register(name='Happy Little Tree')\n",
    "class HappyLittleTree(Minion):\n",
    "    pass"
   ]
  },
  {
   "cell_type": "code",
   "execution_count": 83,
   "metadata": {},
   "outputs": [
    {
     "data": {
      "text/plain": [
       "{'Mad Mim': __main__.MadMim,\n",
       " 'Rainbow Unicorn': __main__.RainbowUnicorn,\n",
       " 'Black Cat': __main__.BlackCat,\n",
       " 'Cat': __main__.Cat,\n",
       " 'Happy Little Tree': __main__.HappyLittleTree}"
      ]
     },
     "execution_count": 83,
     "metadata": {},
     "output_type": "execute_result"
    }
   ],
   "source": [
    "minion_classes"
   ]
  },
  {
   "cell_type": "code",
   "execution_count": 102,
   "metadata": {},
   "outputs": [],
   "source": [
    "@dataclass\n",
    "class AttackDetails:\n",
    "    attack: int\n",
    "    flying: bool = False\n",
    "    ranged: bool = False\n",
    "\n",
    "FRONT_ROW = (0, 1, 2, 3)\n",
    "BACK_ROW = (4, 5, 6)"
   ]
  },
  {
   "cell_type": "code",
   "execution_count": 119,
   "metadata": {},
   "outputs": [],
   "source": [
    "class MinionMediator:\n",
    "\n",
    "    def __init__(self, minions: List[Tuple[MinionDetails, int]]):\n",
    "        self.minions = {}\n",
    "        for details, position in minions:\n",
    "            self.add_minion(details.name, details, position)\n",
    "        self.last_attacker = None\n",
    "        self.apply_supports()\n",
    "\n",
    "    def add_minion(self, name: str, details: MinionDetails, position: int) -> None:\n",
    "        if position not in self.minions:\n",
    "            self.minions[position] = minion_classes[name](details=details, position=position, mediator=self)\n",
    "\n",
    "    def remove_minion(self, position: int) -> None:\n",
    "        del self.minions[position]\n",
    "\n",
    "    def kill_minion(self, position: int) -> None:\n",
    "        on_death = self.minions[position].on_death()\n",
    "        self.remove_minion(position)\n",
    "        on_death() # This will later be placed on a stack\n",
    "\n",
    "    def receive_attack(self, attack_details: AttackDetails) -> int:\n",
    "        \"\"\"Accept incoming attack, and return the damage to be dealt back\"\"\"\n",
    "        assert self.has_minions\n",
    "        defender = self._get_defender(attack_details)\n",
    "        defender.take_damage(attack_details.attack)\n",
    "        return defender.attack if attack_details.ranged else 0\n",
    "\n",
    "    def _get_defender(self, attack: AttackDetails) -> Minion:\n",
    "        front = [minion for minion in self.minions.values() if minion.position in FRONT_ROW]\n",
    "        back = [minion for minion in self.minions.values() if minion.position in BACK_ROW]\n",
    "        if len(front) == 0:\n",
    "            return random.choice(back)\n",
    "        elif len(back) == 0 or not attack.flying:\n",
    "            return random.choice(front)\n",
    "        else: # attack.flying\n",
    "            return random.choice(back)\n",
    "        \n",
    "    def _attack_priority(self, minion: Minion) -> int:\n",
    "        \"\"\"Integer value to determine attacking order, lowest value has highest priority\"\"\"\n",
    "        if minion is self.last_attacker:\n",
    "            return NUM_POSITIONS * 3 # ensure lowest priority \n",
    "        elif minion.position >= (self.last_attacker.position if self.last_attacker else 0):\n",
    "            return minion.position\n",
    "        else:\n",
    "            return minion.position + NUM_POSITIONS \n",
    "\n",
    "    @property\n",
    "    def has_attacker(self) -> bool:\n",
    "        return any(m.can_attack for m in self.minions.values())\n",
    "\n",
    "    def _get_attacker(self) -> Minion:\n",
    "        for minion in sorted(self.minions.values(), key=self._attack_priority):\n",
    "            if minion.can_attack:\n",
    "                return minion\n",
    "        else:\n",
    "            raise RuntimeError(\"Tried to get attacker but none available.\")\n",
    "\n",
    "    def attack(self, opponent: MinionMediator) -> None:\n",
    "        if not self.has_attacker:\n",
    "            return\n",
    "        attacker = self._get_attacker()\n",
    "        attack_details = AttackDetails(attack=attacker.attack, ranged=attacker.details.ranged, flying=attacker.details.flying)\n",
    "        damage_taken = opponent.receive_attack(attack_details)\n",
    "        attacker.take_damage(damage_taken)\n",
    "        self.last_attacker = attacker\n",
    "\n",
    "    def apply_supports(self) -> None:\n",
    "        for supporter in self.minions.values():\n",
    "            bonus, criteria = supporter.support()\n",
    "            for target in filter(criteria, self.minions.values()):\n",
    "                target.apply_bonus(bonus)\n",
    "\n",
    "    @property\n",
    "    def has_minions(self) -> bool:\n",
    "        return len(self.minions) > 0"
   ]
  },
  {
   "cell_type": "code",
   "execution_count": 131,
   "metadata": {},
   "outputs": [],
   "source": [
    "class Game:\n",
    "\n",
    "    def __init__(self, p1, p2):\n",
    "        self.p1 = p1\n",
    "        self.p2 = p2\n",
    "        self.turn_sequence = cycle([(self.p1, self.p2), (self.p2, self.p1)]) \n",
    "        if random.choice([True, False]):\n",
    "            next(self.turn_sequence)\n",
    "\n",
    "    def run(self) -> float:\n",
    "        for attacker, opponent in self.turn_sequence:\n",
    "            if self.is_terminal():\n",
    "                return self.game_result()\n",
    "            attacker.attack(opponent)\n",
    "\n",
    "    def is_terminal(self) -> bool:\n",
    "        return (not self.p1.has_minions) or (not self.p2.has_minions) or (not self.p1.has_attacker and not self.p2.has_attacker)\n",
    "\n",
    "    def game_result(self) -> float:\n",
    "        if (not self.p1.has_minions) and (not self.p2.has_minions):\n",
    "            return 0.5 # draw\n",
    "        elif not self.p1.has_minions:\n",
    "            return 0\n",
    "        elif not self.p2.has_minions:\n",
    "            return 1\n",
    "        elif not self.p1.has_attacker and not self.p2.has_attacker:\n",
    "            return 0.5 # draw\n",
    "        else:\n",
    "            raise RuntimeError(\"Game hasn't ended!\")"
   ]
  },
  {
   "cell_type": "code",
   "execution_count": 140,
   "metadata": {},
   "outputs": [],
   "source": [
    "with open('minions.json') as f:\n",
    "    ALL_MINIONS = json.loads(f.read())\n",
    "\n",
    "def play():\n",
    "    p1 = MinionMediator([\n",
    "        (MinionDetails(**ALL_MINIONS['Mad Mim']), 4), \n",
    "        (MinionDetails(**ALL_MINIONS['Rainbow Unicorn']), 0), \n",
    "        (MinionDetails(**ALL_MINIONS['Black Cat']), 1),\n",
    "        (MinionDetails(**ALL_MINIONS['Happy Little Tree']), 3)\n",
    "    ])\n",
    "    p2 = MinionMediator([\n",
    "            (MinionDetails(**ALL_MINIONS['Mad Mim']), 4), \n",
    "            (MinionDetails(**ALL_MINIONS['Rainbow Unicorn']), 0), \n",
    "            (MinionDetails(**ALL_MINIONS['Black Cat']), 1),\n",
    "            (MinionDetails(**ALL_MINIONS['Happy Little Tree']), 3)\n",
    "        ])\n",
    "    game = Game(p1, p2)\n",
    "    return game.run()"
   ]
  },
  {
   "cell_type": "code",
   "execution_count": 141,
   "metadata": {},
   "outputs": [
    {
     "data": {
      "text/plain": [
       "0.499"
      ]
     },
     "execution_count": 141,
     "metadata": {},
     "output_type": "execute_result"
    }
   ],
   "source": [
    "TRIALS = 1000\n",
    "sum([play() for _ in range(TRIALS)]) / TRIALS\n"
   ]
  },
  {
   "cell_type": "code",
   "execution_count": 15,
   "metadata": {},
   "outputs": [],
   "source": [
    "player = Player(('Baby Dragon', None, 'Black Cat', None, 'Mad Mim', 'Baby Root', None))\n",
    "player.resolve_supports()\n",
    "assert player.positions[0].attack == 6\n",
    "assert player.positions[0].health == 2\n",
    "assert player.positions[2].attack == 1\n",
    "assert player.positions[2].health == 4"
   ]
  },
  {
   "cell_type": "code",
   "execution_count": 13,
   "metadata": {},
   "outputs": [],
   "source": [
    "# test next_position\n",
    "\n",
    "player = Player(('Mad Mim', None, None, None, 'Baby Dragon', None, None))\n",
    "assert player.next_position() == 4\n",
    "player.current_position = 4\n",
    "player.last_uid = id(player.positions[4])\n",
    "assert player.next_position() == 4\n",
    "\n",
    "player = Player(('Mad Mim', None, None, None, None, None, None))\n",
    "assert player.next_position() is None\n",
    "\n",
    "player = Player(('Baby Dragon', None, None, None, 'Black Cat', None, None))\n",
    "assert player.next_position() == 0\n",
    "player.current_position = 0\n",
    "player.last_uid = id(player.positions[0])\n",
    "assert player.next_position() == 4\n",
    "player.current_position = 4\n",
    "player.last_uid = id(player.positions[4])\n",
    "assert player.next_position() == 0"
   ]
  }
 ],
 "metadata": {
  "interpreter": {
   "hash": "b3ba2566441a7c06988d0923437866b63cedc61552a5af99d1f4fb67d367b25f"
  },
  "kernelspec": {
   "display_name": "Python 3.8.8 64-bit ('base': conda)",
   "language": "python",
   "name": "python3"
  },
  "language_info": {
   "codemirror_mode": {
    "name": "ipython",
    "version": 3
   },
   "file_extension": ".py",
   "mimetype": "text/x-python",
   "name": "python",
   "nbconvert_exporter": "python",
   "pygments_lexer": "ipython3",
   "version": "3.8.8"
  },
  "orig_nbformat": 2
 },
 "nbformat": 4,
 "nbformat_minor": 2
}
