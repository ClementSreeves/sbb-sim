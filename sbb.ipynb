{
 "cells": [
  {
   "cell_type": "markdown",
   "metadata": {},
   "source": [
    "Look to refactor into the following model:\n",
    "\n",
    "- between attacks, we have an unchanging state\n",
    "- from that state, the next attack is chosen (randomly)\n",
    "- compute the next state based on which attack was chosen"
   ]
  },
  {
   "cell_type": "code",
   "execution_count": 6,
   "metadata": {},
   "outputs": [],
   "source": [
    "from dataclasses import dataclass\n",
    "from typing import List, Tuple, Optional, Callable, Any\n",
    "from itertools import cycle\n",
    "import random\n",
    "import json\n",
    "from abc import ABC, abstractmethod\n",
    "from collections import namedtuple\n",
    "import json"
   ]
  },
  {
   "cell_type": "code",
   "execution_count": 7,
   "metadata": {},
   "outputs": [],
   "source": [
    "NUM_POSITIONS = 7"
   ]
  },
  {
   "cell_type": "code",
   "execution_count": null,
   "metadata": {},
   "outputs": [],
   "source": [
    "def get_attack(state):\n",
    "    attacking_player = state.players[state.next_attacker]\n",
    "    attacker_position = attacking_player.next_position()\n",
    "    if attacker_position is None:\n",
    "        return None\n",
    "    defending_player = state.players[1 - state.next_attacker]\n",
    "    defender_position = defending_player.get_defender()\n",
    "    return TODO\n"
   ]
  },
  {
   "cell_type": "code",
   "execution_count": null,
   "metadata": {},
   "outputs": [],
   "source": [
    "def battle(p1, p2):\n",
    "    state = GameState(p1, p2)\n",
    "    while not state.is_terminal():\n",
    "        attacker, defender = get_attack(state)\n",
    "        state = resolve_attack(state, attacker, defender)\n",
    "    return state.game_result()"
   ]
  },
  {
   "cell_type": "code",
   "execution_count": 3,
   "metadata": {},
   "outputs": [
    {
     "ename": "NameError",
     "evalue": "name 'Player' is not defined",
     "output_type": "error",
     "traceback": [
      "\u001b[1;31m---------------------------------------------------------------------------\u001b[0m",
      "\u001b[1;31mNameError\u001b[0m                                 Traceback (most recent call last)",
      "\u001b[1;32m<ipython-input-3-f6f817d625b4>\u001b[0m in \u001b[0;36m<module>\u001b[1;34m\u001b[0m\n\u001b[1;32m----> 1\u001b[1;33m \u001b[1;32mclass\u001b[0m \u001b[0mGameState\u001b[0m\u001b[1;33m:\u001b[0m\u001b[1;33m\u001b[0m\u001b[1;33m\u001b[0m\u001b[0m\n\u001b[0m\u001b[0;32m      2\u001b[0m     \u001b[0mplayers\u001b[0m\u001b[1;33m:\u001b[0m \u001b[0mTuple\u001b[0m\u001b[1;33m[\u001b[0m\u001b[0mPlayer\u001b[0m\u001b[1;33m]\u001b[0m\u001b[1;33m\u001b[0m\u001b[1;33m\u001b[0m\u001b[0m\n\u001b[0;32m      3\u001b[0m     \u001b[0mnext_attacker\u001b[0m\u001b[1;33m:\u001b[0m \u001b[0mint\u001b[0m\u001b[1;33m\u001b[0m\u001b[1;33m\u001b[0m\u001b[0m\n\u001b[0;32m      4\u001b[0m \u001b[1;33m\u001b[0m\u001b[0m\n\u001b[0;32m      5\u001b[0m     \u001b[1;32mdef\u001b[0m \u001b[0m__init__\u001b[0m\u001b[1;33m(\u001b[0m\u001b[0mself\u001b[0m\u001b[1;33m,\u001b[0m \u001b[0mp1\u001b[0m\u001b[1;33m,\u001b[0m \u001b[0mp2\u001b[0m\u001b[1;33m)\u001b[0m\u001b[1;33m:\u001b[0m\u001b[1;33m\u001b[0m\u001b[1;33m\u001b[0m\u001b[0m\n",
      "\u001b[1;32m<ipython-input-3-f6f817d625b4>\u001b[0m in \u001b[0;36mGameState\u001b[1;34m()\u001b[0m\n\u001b[0;32m      1\u001b[0m \u001b[1;32mclass\u001b[0m \u001b[0mGameState\u001b[0m\u001b[1;33m:\u001b[0m\u001b[1;33m\u001b[0m\u001b[1;33m\u001b[0m\u001b[0m\n\u001b[1;32m----> 2\u001b[1;33m     \u001b[0mplayers\u001b[0m\u001b[1;33m:\u001b[0m \u001b[0mTuple\u001b[0m\u001b[1;33m[\u001b[0m\u001b[0mPlayer\u001b[0m\u001b[1;33m]\u001b[0m\u001b[1;33m\u001b[0m\u001b[1;33m\u001b[0m\u001b[0m\n\u001b[0m\u001b[0;32m      3\u001b[0m     \u001b[0mnext_attacker\u001b[0m\u001b[1;33m:\u001b[0m \u001b[0mint\u001b[0m\u001b[1;33m\u001b[0m\u001b[1;33m\u001b[0m\u001b[0m\n\u001b[0;32m      4\u001b[0m \u001b[1;33m\u001b[0m\u001b[0m\n\u001b[0;32m      5\u001b[0m     \u001b[1;32mdef\u001b[0m \u001b[0m__init__\u001b[0m\u001b[1;33m(\u001b[0m\u001b[0mself\u001b[0m\u001b[1;33m,\u001b[0m \u001b[0mp1\u001b[0m\u001b[1;33m,\u001b[0m \u001b[0mp2\u001b[0m\u001b[1;33m)\u001b[0m\u001b[1;33m:\u001b[0m\u001b[1;33m\u001b[0m\u001b[1;33m\u001b[0m\u001b[0m\n",
      "\u001b[1;31mNameError\u001b[0m: name 'Player' is not defined"
     ]
    }
   ],
   "source": [
    "class GameState:\n",
    "    players: Tuple[Player]\n",
    "    next_attacker: int\n",
    "\n",
    "    def __init__(self, p1, p2):\n",
    "        self.players = (p1, p2)\n",
    "        self.next_attacker = random.choice((0, 1))\n",
    "\n",
    "    def is_terminal(self) -> bool:\n",
    "        return False\n",
    "\n",
    "    def game_result(self) -> int:\n",
    "        if not self.is_terminal():\n",
    "            return 0\n",
    "        return 1"
   ]
  },
  {
   "cell_type": "code",
   "execution_count": 8,
   "metadata": {},
   "outputs": [],
   "source": [
    "Bonus = namedtuple(\"Bonus\", [\"attack\", \"health\"])\n",
    "\n",
    "in_front_of = {\n",
    "    0: [],\n",
    "    1: [],\n",
    "    2: [],\n",
    "    3: [],\n",
    "    4: [0, 1],\n",
    "    5: [1, 2],\n",
    "    6: [2, 3]\n",
    "}"
   ]
  },
  {
   "cell_type": "code",
   "execution_count": 9,
   "metadata": {},
   "outputs": [],
   "source": [
    "@dataclass\n",
    "class MinionDetails:\n",
    "    \"\"\"Minion characteristics and stats\"\"\"\n",
    "    name: str\n",
    "    base_attack: int\n",
    "    base_health: int\n",
    "    alignment: str\n",
    "    types: List[str]\n",
    "    level: int\n",
    "    upgraded: bool = False\n",
    "    ranged: bool = False\n",
    "    flying: bool = False\n",
    "    slay: bool = False"
   ]
  },
  {
   "cell_type": "code",
   "execution_count": 27,
   "metadata": {},
   "outputs": [],
   "source": [
    "class Minion:\n",
    "\n",
    "    def __init__(self, details: MinionDetails, position: int, player: \"MinionMediator\"):\n",
    "        self.attack = details.base_attack\n",
    "        self.health = details.base_health\n",
    "        self.details = details\n",
    "        self.position = position\n",
    "        self.player = player\n",
    "    \n",
    "    def support(self) -> Tuple[Bonus, Callable[[\"Minion\"], bool]]:\n",
    "        return (0, 0), lambda x: False \n",
    "\n",
    "    def apply_bonus(self, bonus: Bonus) -> None:\n",
    "        self.attack += bonus.attack\n",
    "        self.health += bonus.health\n",
    "\n",
    "    def take_damage(self, damage: int) -> None:\n",
    "        self.health -= damage\n",
    "        if self.heath < 0:\n",
    "            self.on_death()\n",
    "\n",
    "    def on_death(self) -> None:\n",
    "        self.player.remove_minion(self.position)\n",
    "\n",
    "    @property\n",
    "    def can_attack(self) -> bool:\n",
    "        return self.attack > 0\n",
    "\n",
    "    def __repr__(self) -> str:\n",
    "        return f\"{self.details.name} in position {self.position} with {self.attack} attack and {self.health} health\""
   ]
  },
  {
   "cell_type": "code",
   "execution_count": 36,
   "metadata": {},
   "outputs": [],
   "source": [
    "minion_classes = {}\n",
    "def register(name):\n",
    "    def wrapper(cls):\n",
    "        minion_classes[name] = cls\n",
    "        return cls\n",
    "    return wrapper\n",
    "\n",
    "@register(name='Mad Mim')\n",
    "class MadMim(Minion):\n",
    "\n",
    "    def support(self) -> Tuple[Bonus, Callable[[Minion], bool]]:\n",
    "        return Bonus(3, 0), lambda x: x.position in in_front_of[self.position]\n",
    "\n",
    "@register(name='Rainbow Unicorn')\n",
    "class RainbowUnicorn(Minion):\n",
    "\n",
    "    def support(self) -> Tuple[Bonus, Callable[[Minion], bool]]:\n",
    "        return Bonus(0, 1), lambda x: x.details.alignment == 'Good' and x is not self\n",
    "\n",
    "@register(name='Black Cat')\n",
    "class BlackCat(Minion):\n",
    "\n",
    "    def on_death(self) -> None:\n",
    "        super().on_death()\n",
    "        self.player.add_minion('Cat', details=MinionDetails(**ALL_MINIONS['Cat']), position=self.position)\n",
    "\n",
    "@register(name='Cat')\n",
    "class Cat(Minion):\n",
    "    pass\n",
    "\n",
    "@register(name='Happy Little Tree')\n",
    "class HappyLittleTree(Minion):\n",
    "    pass"
   ]
  },
  {
   "cell_type": "code",
   "execution_count": 37,
   "metadata": {},
   "outputs": [
    {
     "data": {
      "text/plain": [
       "{'Mad Mim': __main__.MadMim,\n",
       " 'Rainbow Unicorn': __main__.RainbowUnicorn,\n",
       " 'Black Cat': __main__.BlackCat,\n",
       " 'Cat': __main__.Cat,\n",
       " 'Happy Little Tree': __main__.HappyLittleTree}"
      ]
     },
     "execution_count": 37,
     "metadata": {},
     "output_type": "execute_result"
    }
   ],
   "source": [
    "minion_classes"
   ]
  },
  {
   "cell_type": "code",
   "execution_count": 38,
   "metadata": {},
   "outputs": [],
   "source": [
    "class MinionMediator:\n",
    "\n",
    "    def __init__(self, minions: List[Tuple[MinionDetails, int]]):\n",
    "        self.minions = []\n",
    "        for details, position in minions:\n",
    "            self.add_minion(details.name, details, position)\n",
    "        self.last_attacker = None\n",
    "\n",
    "    def add_minion(self, name: str, details: MinionDetails, position: int) -> None:\n",
    "        self.minions.append(minion_classes[name](details=details, position=position, player=self))\n",
    "\n",
    "    def remove_minion(self, position: int) -> None:\n",
    "        self.minions = [m for m in self.minions if m.position != position]\n",
    "\n",
    "    def kill_minion(self, position: int) -> None:\n",
    "        for m in self.minions:\n",
    "            if m.position == position:\n",
    "                m.on_death()\n",
    "        \n",
    "    def _sort_minions(self, first: int = 0) -> None:\n",
    "        \"\"\"Sort minions by position, with optional rotation to have position first at the start\"\"\"\n",
    "        minions.sort(key=lambda x: x.position if x.position >= first else x.position + NUM_POSITIONS)\n",
    "\n",
    "    def has_attacker(self) -> bool:\n",
    "        return any(m.can_attack for m in self.minions)\n",
    "\n",
    "    def get_attacker(self) -> Optional[Minion]:\n",
    "        last_attacker_position = self.last_attacker.position if self.last_attacker else 0\n",
    "        self._sort_minions(first=last_attacker_position)\n",
    "        for minion in self.minions: #TODO: same minion can't attack twice\n",
    "            if minion.can_attack:\n",
    "                return minion\n",
    "        raise RuntimeError(\"Tried to get attacker, but no attackers available.\")\n",
    "\n",
    "    def apply_supports(self) -> None:\n",
    "        for supporter in self.minions:\n",
    "            bonus, criteria = supporter.support()\n",
    "            for target in filter(criteria, self.minions):\n",
    "                target.apply_bonus(bonus)"
   ]
  },
  {
   "cell_type": "code",
   "execution_count": 39,
   "metadata": {},
   "outputs": [
    {
     "name": "stdout",
     "output_type": "stream",
     "text": [
      "Mad Mim in position 4 with 0 attack and 3 health\n",
      "Rainbow Unicorn in position 0 with 4 attack and 5 health\n",
      "Happy Little Tree in position 3 with 1 attack and 2 health\n",
      "Cat in position 1 with 1 attack and 1 health\n"
     ]
    }
   ],
   "source": [
    "with open('minions.json') as f:\n",
    "    ALL_MINIONS = json.loads(f.read())\n",
    "    \n",
    "mediator = MinionMediator([\n",
    "        (MinionDetails(**ALL_MINIONS['Mad Mim']), 4), \n",
    "        (MinionDetails(**ALL_MINIONS['Rainbow Unicorn']), 0), \n",
    "        (MinionDetails(**ALL_MINIONS['Black Cat']), 1),\n",
    "        (MinionDetails(**ALL_MINIONS['Happy Little Tree']), 3)\n",
    "    ])\n",
    "mediator.apply_supports()\n",
    "mediator.kill_minion(position=1)\n",
    "\n",
    "for minion in mediator.minions:\n",
    "    print(minion)\n"
   ]
  },
  {
   "cell_type": "code",
   "execution_count": 3,
   "metadata": {},
   "outputs": [],
   "source": [
    "def can_attack(minion: Optional[Minion]) -> bool:\n",
    "    return minion is not None and minion.attack > 0"
   ]
  },
  {
   "cell_type": "code",
   "execution_count": 4,
   "metadata": {},
   "outputs": [],
   "source": [
    "supported_by = {\n",
    "    0: [4],\n",
    "    1: [4, 5],\n",
    "    2: [5, 6],\n",
    "    3: [6],\n",
    "    4: [0, 1],\n",
    "    5: [1, 2],\n",
    "    6: [2, 3]\n",
    "}"
   ]
  },
  {
   "cell_type": "code",
   "execution_count": 42,
   "metadata": {},
   "outputs": [],
   "source": [
    "class Player:\n",
    "    \"\"\"Board position details\"\"\"\n",
    "    name: str\n",
    "    positions: List[Optional[Minion]]\n",
    "    current_position: int = 0\n",
    "    last_uid: Optional[int] = None \n",
    "\n",
    "    def __init__(self, name: str, minion_names: Tuple[Optional[str]]):\n",
    "        self.name = name\n",
    "        self.positions = [Minion(**ALL_MINIONS[name]) if name else None for name in minion_names]\n",
    "\n",
    "    def next_position(self) -> Optional[int]:\n",
    "        \"\"\"Finds the position of the next attacking minion, or None if no minions can attack\"\"\"\n",
    "\n",
    "        if not any(can_attack(p) for p in self.positions):\n",
    "            return None\n",
    "\n",
    "        idx = self.current_position\n",
    "        minion = self.positions[idx]\n",
    "        if can_attack(minion) and (self.last_uid is None or id(minion) != self.last_uid):\n",
    "            return self.current_position\n",
    "\n",
    "        while True:\n",
    "            idx = (idx + 1) % len(self.positions)\n",
    "            if can_attack(self.positions[idx]):\n",
    "                return idx\n",
    "\n",
    "    def resolve_supports(self) -> None:\n",
    "        for position, minion in enumerate(self.positions):\n",
    "            if position < 4 or minion is None or minion.support is None:\n",
    "                continue\n",
    "            for p in supported_by[position]:\n",
    "                supported = self.positions[p]\n",
    "                if supported is not None and (minion.support['type'] == 'All' or minion.support['type'] in supported.types):\n",
    "                    for stat in minion.support['stats']:\n",
    "                        setattr(supported, stat, getattr(supported, stat) + minion.support['value'])\n",
    "\n",
    "    def get_defender(self) -> Minion:\n",
    "        try: \n",
    "            return random.choice([minion for minion in self.positions[:4] if minion is not None])\n",
    "        except IndexError:\n",
    "            return random.choice([minion for minion in self.positions[4:] if minion is not None])\n",
    "\n",
    "    def attack(self, opponent) -> None:\n",
    "        self.current_position = self.next_position()\n",
    "        if self.current_position is None:\n",
    "            return\n",
    "        attacker = self.positions[self.current_position]\n",
    "        defender = opponent.get_defender()\n",
    "        print(f\"{self.name}'s {attacker.name} attacks {defender.name}!\")\n",
    "        defender.take_damage(attacker.attack)\n",
    "        if not attacker.ranged:\n",
    "            attacker.take_damage(defender.attack)\n",
    "        self.last_uid = id(attacker)\n",
    "\n",
    "    def check_deaths(self) -> None:\n",
    "        for i, minion in enumerate(self.positions):\n",
    "            if minion is None:\n",
    "                continue\n",
    "            if minion.health <= 0:\n",
    "                minion.on_death()\n",
    "                self.positions[i] = None\n",
    "\n",
    "    @property\n",
    "    def has_empty_board(self) -> bool:\n",
    "        return not any(self.positions)\n",
    "            \n"
   ]
  },
  {
   "cell_type": "code",
   "execution_count": 118,
   "metadata": {},
   "outputs": [],
   "source": [
    "def battle(p1, p2):\n",
    "    p1.resolve_supports()\n",
    "    p2.resolve_supports()\n",
    "    for player, opponent in cycle([(p1, p2), (p2, p1)]):\n",
    "        player.attack(opponent)\n",
    "        player.check_deaths()\n",
    "        opponent.check_deaths()\n",
    "        if player.has_empty_board and opponent.has_empty_board:\n",
    "            print(\"Draw!\")\n",
    "            break\n",
    "        elif player.has_empty_board:\n",
    "            print(f\"{opponent.name} wins!\")\n",
    "            break\n",
    "        elif opponent.has_empty_board:\n",
    "            print(f\"{player.name} wins!\")\n",
    "            break\n",
    "        elif sum(minion.attack for minion in filter(None, player.positions + opponent.positions)) == 0:\n",
    "            print(\"Draw!\")\n",
    "            break"
   ]
  },
  {
   "cell_type": "code",
   "execution_count": 119,
   "metadata": {},
   "outputs": [
    {
     "name": "stdout",
     "output_type": "stream",
     "text": [
      "Player 1's Black Cat attacks Rainbow Unicorn!\n",
      "Player 2's Rainbow Unicorn attacks Mad Mim!\n",
      "Player 2's Rainbow Unicorn attacks Mad Mim!\n",
      "Player 2's Rainbow Unicorn attacks Mad Mim!\n",
      "Player 2 wins!\n"
     ]
    }
   ],
   "source": [
    "p1 = Player(\"Player 1\", ('Black Cat', None, None, None, 'Mad Mim', None, None))\n",
    "p2 = Player(\"Player 2\", ('Rainbow Unicorn', None, None, None, None, None, None))\n",
    "\n",
    "battle(p1, p2)"
   ]
  },
  {
   "cell_type": "code",
   "execution_count": 120,
   "metadata": {},
   "outputs": [
    {
     "name": "stdout",
     "output_type": "stream",
     "text": [
      "Player 1's Black Cat attacks Black Cat!\n",
      "Draw!\n"
     ]
    }
   ],
   "source": [
    "p1 = Player(\"Player 1\", ('Black Cat', None, None, None, None, None, None))\n",
    "p2 = Player(\"Player 2\", ('Black Cat', None, None, None, None, None, None))\n",
    "\n",
    "battle(p1, p2)"
   ]
  },
  {
   "cell_type": "code",
   "execution_count": 121,
   "metadata": {},
   "outputs": [
    {
     "name": "stdout",
     "output_type": "stream",
     "text": [
      "Player 1's Black Cat attacks Black Cat!\n",
      "Draw!\n"
     ]
    }
   ],
   "source": [
    "p1 = Player(\"Player 1\", ('Black Cat', None, None, None, 'Mad Mim', None, None))\n",
    "p2 = Player(\"Player 2\", ('Black Cat', None, None, None, 'Mad Mim', None, None))\n",
    "\n",
    "battle(p1, p2)"
   ]
  },
  {
   "cell_type": "code",
   "execution_count": 133,
   "metadata": {},
   "outputs": [
    {
     "name": "stdout",
     "output_type": "stream",
     "text": [
      "Player 1's Sherwood Sureshot attacks Blind Mouse!\n",
      "Player 2's B-a-a-d Billy Gruff attacks Black Cat!\n",
      "Player 1's Golden Chicken attacks Tiny!\n",
      "Player 2's Tiny attacks Sherwood Sureshot!\n",
      "Player 2's B-a-a-d Billy Gruff attacks Mad Mim!\n",
      "Player 2's B-a-a-d Billy Gruff attacks Mad Mim!\n",
      "Player 2 wins!\n"
     ]
    }
   ],
   "source": [
    "p1 = Player(\"Player 1\", ('Sherwood Sureshot', 'Black Cat', 'Golden Chicken', None, 'Mad Mim', None, None))\n",
    "p2 = Player(\"Player 2\", ('B-a-a-d Billy Gruff', 'Tiny', 'Blind Mouse', None, 'Baby Root', None, None))\n",
    "\n",
    "battle(p1, p2)"
   ]
  },
  {
   "cell_type": "code",
   "execution_count": 6,
   "metadata": {},
   "outputs": [],
   "source": [
    "import json\n",
    "\n",
    "with open('minions.json') as f:\n",
    "    ALL_MINIONS = json.loads(f.read())\n",
    "\n",
    "cat1 = Minion(**ALL_MINIONS['Black Cat'])\n",
    "cat2 = Minion(**ALL_MINIONS['Black Cat'])\n",
    "assert cat1 is not cat2"
   ]
  },
  {
   "cell_type": "code",
   "execution_count": 7,
   "metadata": {},
   "outputs": [],
   "source": [
    "p1 = Player(('Black Cat', None, None, None, 'Mad Mim', None, None))\n",
    "p1.resolve_supports()\n",
    "p2 = Player(('Rainbow Unicorn', None, None, None, None, None, None))\n",
    "\n",
    "p1.attack(p2)\n",
    "p1.check_deaths()\n",
    "p2.check_deaths()\n",
    "\n",
    "p2.attack(p1)\n",
    "p1.attack(p2)\n",
    "\n",
    "p2.attack(p1)\n",
    "p1.attack(p2)\n",
    "\n",
    "p2.attack(p1)\n",
    "p1.attack(p2)"
   ]
  },
  {
   "cell_type": "code",
   "execution_count": 8,
   "metadata": {},
   "outputs": [
    {
     "name": "stdout",
     "output_type": "stream",
     "text": [
      "[None, None, None, None, Minion(name='Mad Mim', attack=0, health=0, alignment='Evil', types=['Mage'], level=2, upgraded=False, support={'stats': ['attack'], 'value': 3, 'type': 'All'}, ranged=False, flying=False, slay=False), None, None]\n"
     ]
    },
    {
     "data": {
      "text/plain": [
       "[Minion(name='Rainbow Unicorn', attack=1, health=1, alignment='Good', types=['Animal'], level=2, upgraded=False, support=None, ranged=False, flying=False, slay=False),\n",
       " None,\n",
       " None,\n",
       " None,\n",
       " None,\n",
       " None,\n",
       " None]"
      ]
     },
     "execution_count": 8,
     "metadata": {},
     "output_type": "execute_result"
    }
   ],
   "source": [
    "print(p1.positions)\n",
    "p2.positions"
   ]
  },
  {
   "cell_type": "code",
   "execution_count": 12,
   "metadata": {},
   "outputs": [
    {
     "data": {
      "text/plain": [
       "0"
      ]
     },
     "execution_count": 12,
     "metadata": {},
     "output_type": "execute_result"
    }
   ],
   "source": [
    "p2.current_position"
   ]
  },
  {
   "cell_type": "code",
   "execution_count": 15,
   "metadata": {},
   "outputs": [],
   "source": [
    "player = Player(('Baby Dragon', None, 'Black Cat', None, 'Mad Mim', 'Baby Root', None))\n",
    "player.resolve_supports()\n",
    "assert player.positions[0].attack == 6\n",
    "assert player.positions[0].health == 2\n",
    "assert player.positions[2].attack == 1\n",
    "assert player.positions[2].health == 4"
   ]
  },
  {
   "cell_type": "code",
   "execution_count": 13,
   "metadata": {},
   "outputs": [],
   "source": [
    "# test next_position\n",
    "\n",
    "player = Player(('Mad Mim', None, None, None, 'Baby Dragon', None, None))\n",
    "assert player.next_position() == 4\n",
    "player.current_position = 4\n",
    "player.last_uid = id(player.positions[4])\n",
    "assert player.next_position() == 4\n",
    "\n",
    "player = Player(('Mad Mim', None, None, None, None, None, None))\n",
    "assert player.next_position() is None\n",
    "\n",
    "player = Player(('Baby Dragon', None, None, None, 'Black Cat', None, None))\n",
    "assert player.next_position() == 0\n",
    "player.current_position = 0\n",
    "player.last_uid = id(player.positions[0])\n",
    "assert player.next_position() == 4\n",
    "player.current_position = 4\n",
    "player.last_uid = id(player.positions[4])\n",
    "assert player.next_position() == 0"
   ]
  },
  {
   "cell_type": "code",
   "execution_count": null,
   "metadata": {},
   "outputs": [],
   "source": []
  }
 ],
 "metadata": {
  "interpreter": {
   "hash": "b3ba2566441a7c06988d0923437866b63cedc61552a5af99d1f4fb67d367b25f"
  },
  "kernelspec": {
   "display_name": "Python 3.8.8 64-bit ('base': conda)",
   "language": "python",
   "name": "python3"
  },
  "language_info": {
   "codemirror_mode": {
    "name": "ipython",
    "version": 3
   },
   "file_extension": ".py",
   "mimetype": "text/x-python",
   "name": "python",
   "nbconvert_exporter": "python",
   "pygments_lexer": "ipython3",
   "version": "3.8.8"
  },
  "orig_nbformat": 2
 },
 "nbformat": 4,
 "nbformat_minor": 2
}
